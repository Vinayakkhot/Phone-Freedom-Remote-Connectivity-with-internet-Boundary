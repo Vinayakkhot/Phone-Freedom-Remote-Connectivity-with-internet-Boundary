{
  "cells": [
    {
      "cell_type": "code",
      "execution_count": null,
      "metadata": {
        "id": "THN7sSvg75Ca"
      },
      "outputs": [
        {
          "ename": "",
          "evalue": "",
          "output_type": "error",
          "traceback": [
            "\u001b[1;31mFailed to start the Kernel. \n",
            "\u001b[1;31mThe kernel 'book_rec (Python 3.10.9)' was not started as it is located in an insecure location 'c:\\ProgramData\\jupyter\\kernels\\book_rec\\kernel.json'.  \n",
            "\u001b[1;31mClick <a href='https://aka.ms/JupyterTrustedKernelPaths'>here</a> for further details, optionally update the setting <a href='command:workbench.action.openSettings?[\"jupyter.kernels.trusted\"]'>jupyter.kernels.trusted</a> to trust the kernel."
          ]
        }
      ],
      "source": [
        "import time\n",
        "import numpy as np\n",
        "import pandas as pd\n",
        "from sklearn.model_selection import train_test_split, GridSearchCV\n",
        "from sklearn.preprocessing import StandardScaler\n",
        "from sklearn.svm import SVC\n",
        "from sklearn.metrics import accuracy_score, classification_report\n",
        "import tensorflow as tf\n",
        "import os\n",
        "import pickle\n",
        "import matplotlib.pyplot as plt\n",
        "import seaborn as sns\n"
      ]
    },
    {
      "cell_type": "code",
      "execution_count": null,
      "metadata": {
        "id": "VFxPOm4d76Of"
      },
      "outputs": [
        {
          "ename": "",
          "evalue": "",
          "output_type": "error",
          "traceback": [
            "\u001b[1;31mFailed to start the Kernel. \n",
            "\u001b[1;31mThe kernel 'book_rec (Python 3.10.9)' was not started as it is located in an insecure location 'c:\\ProgramData\\jupyter\\kernels\\book_rec\\kernel.json'.  \n",
            "\u001b[1;31mClick <a href='https://aka.ms/JupyterTrustedKernelPaths'>here</a> for further details, optionally update the setting <a href='command:workbench.action.openSettings?[\"jupyter.kernels.trusted\"]'>jupyter.kernels.trusted</a> to trust the kernel."
          ]
        }
      ],
      "source": [
        "# Function to generate synthetic dataset for heart disease detection\n",
        "def generate_synthetic_heart_data(num_samples=1000, random_seed=42):\n",
        "    np.random.seed(random_seed)\n",
        "    # Generate random features (assuming 13 features for heart disease dataset)\n",
        "    features = [\n",
        "        \"age\", \"sex\", \"chest_pain_type\", \"resting_blood_pressure\", \"cholesterol\",\n",
        "        \"fasting_blood_sugar\", \"rest_ecg\", \"max_heart_rate\", \"exercise_induced_angina\",\n",
        "        \"st_depression\", \"st_slope\", \"num_major_vessels\", \"thalassemia\"\n",
        "    ]\n",
        "    num_features = len(features)\n",
        "    X = np.random.randn(num_samples, num_features)\n",
        "    # Generate random labels (binary classification)\n",
        "    y = np.random.randint(0, 2, size=num_samples)\n",
        "    return X, y\n"
      ]
    },
    {
      "cell_type": "code",
      "execution_count": null,
      "metadata": {
        "colab": {
          "base_uri": "https://localhost:8080/",
          "height": 751
        },
        "id": "qlJQTnCT8RU9",
        "outputId": "6984565e-1dc2-44b3-ed8a-9b7a27ed6239"
      },
      "outputs": [
        {
          "ename": "",
          "evalue": "",
          "output_type": "error",
          "traceback": [
            "\u001b[1;31mFailed to start the Kernel. \n",
            "\u001b[1;31mThe kernel 'book_rec (Python 3.10.9)' was not started as it is located in an insecure location 'c:\\ProgramData\\jupyter\\kernels\\book_rec\\kernel.json'.  \n",
            "\u001b[1;31mClick <a href='https://aka.ms/JupyterTrustedKernelPaths'>here</a> for further details, optionally update the setting <a href='command:workbench.action.openSettings?[\"jupyter.kernels.trusted\"]'>jupyter.kernels.trusted</a> to trust the kernel."
          ]
        }
      ],
      "source": [
        "# Function to visualize the synthetic heart disease dataset\n",
        "def visualize_dataset(X, y, feature_names):\n",
        "    num_features = X.shape[1]\n",
        "    num_cols = 3\n",
        "    num_rows = (num_features + num_cols - 1) // num_cols\n",
        "\n",
        "    plt.figure(figsize=(15, 10))\n",
        "    for i in range(num_features):\n",
        "        plt.subplot(num_rows, num_cols, i+1)\n",
        "        plt.hist(X[:, i], bins=20, color='skyblue', edgecolor='black', alpha=0.7)\n",
        "        plt.title(f'{feature_names[i]} Distribution')\n",
        "        plt.xlabel('Value')\n",
        "        plt.ylabel('Frequency')\n",
        "        plt.grid(True)\n",
        "\n",
        "    plt.tight_layout()\n",
        "    plt.show()\n",
        "\n",
        "# Generate synthetic heart disease dataset\n",
        "X_synthetic, y_synthetic = generate_synthetic_heart_data()\n",
        "\n",
        "# Define feature names\n",
        "feature_names = [\n",
        "    \"Age\", \"Sex\", \"Chest Pain Type\", \"Resting Blood Pressure\", \"Cholesterol\",\n",
        "    \"Fasting Blood Sugar\", \"Resting ECG\", \"Max Heart Rate\", \"Exercise Induced Angina\",\n",
        "    \"ST Depression\", \"ST Slope\", \"Num Major Vessels\", \"Thalassemia\"\n",
        "]\n",
        "\n",
        "# Visualize the synthetic heart disease dataset\n",
        "visualize_dataset(X_synthetic, y_synthetic, feature_names)\n"
      ]
    },
    {
      "cell_type": "code",
      "execution_count": null,
      "metadata": {
        "colab": {
          "base_uri": "https://localhost:8080/",
          "height": 751
        },
        "id": "Xy83tNeJ89zk",
        "outputId": "33d84293-2e86-4aa1-a817-51139a8e648d"
      },
      "outputs": [
        {
          "ename": "",
          "evalue": "",
          "output_type": "error",
          "traceback": [
            "\u001b[1;31mFailed to start the Kernel. \n",
            "\u001b[1;31mThe kernel 'book_rec (Python 3.10.9)' was not started as it is located in an insecure location 'c:\\ProgramData\\jupyter\\kernels\\book_rec\\kernel.json'.  \n",
            "\u001b[1;31mClick <a href='https://aka.ms/JupyterTrustedKernelPaths'>here</a> for further details, optionally update the setting <a href='command:workbench.action.openSettings?[\"jupyter.kernels.trusted\"]'>jupyter.kernels.trusted</a> to trust the kernel."
          ]
        }
      ],
      "source": [
        "# Function to visualize the synthetic heart disease dataset\n",
        "def visualize_dataset(X, y, feature_names):\n",
        "    num_samples, num_features = X.shape\n",
        "    num_cols = 3\n",
        "    num_rows = (num_features + num_cols - 1) // num_cols\n",
        "\n",
        "    plt.figure(figsize=(15, 10))\n",
        "    for i in range(num_features):\n",
        "        plt.subplot(num_rows, num_cols, i+1)\n",
        "        plt.hist(X[:, i], bins=20, color='skyblue', edgecolor='black', alpha=0.7)\n",
        "\n",
        "        # Display input value\n",
        "        plt.text(0.5, 0.5, f'Mean: {np.mean(X[:, i]):.2f}\\nStd: {np.std(X[:, i]):.2f}',\n",
        "                 horizontalalignment='center', verticalalignment='center', transform=plt.gca().transAxes)\n",
        "\n",
        "        plt.title(f'{feature_names[i]} Distribution')\n",
        "        plt.xlabel('Value')\n",
        "        plt.ylabel('Frequency')\n",
        "        plt.grid(True)\n",
        "\n",
        "    plt.tight_layout()\n",
        "    plt.show()\n",
        "\n",
        "# Generate synthetic heart disease dataset\n",
        "X_synthetic, y_synthetic = generate_synthetic_heart_data()\n",
        "\n",
        "# Define feature names\n",
        "feature_names = [\n",
        "    \"Age\", \"Sex\", \"Chest Pain Type\", \"Resting Blood Pressure\", \"Cholesterol\",\n",
        "    \"Fasting Blood Sugar\", \"Resting ECG\", \"Max Heart Rate\", \"Exercise Induced Angina\",\n",
        "    \"ST Depression\", \"ST Slope\", \"Num Major Vessels\", \"Thalassemia\"\n",
        "]\n",
        "\n",
        "# Visualize the synthetic heart disease dataset\n",
        "visualize_dataset(X_synthetic, y_synthetic, feature_names)\n"
      ]
    },
    {
      "cell_type": "code",
      "execution_count": null,
      "metadata": {
        "colab": {
          "base_uri": "https://localhost:8080/",
          "height": 410
        },
        "id": "FM7p4bBh9NIy",
        "outputId": "2ef89291-f0f0-4ed8-b5d3-1af05addaeff"
      },
      "outputs": [
        {
          "ename": "",
          "evalue": "",
          "output_type": "error",
          "traceback": [
            "\u001b[1;31mFailed to start the Kernel. \n",
            "\u001b[1;31mThe kernel 'book_rec (Python 3.10.9)' was not started as it is located in an insecure location 'c:\\ProgramData\\jupyter\\kernels\\book_rec\\kernel.json'.  \n",
            "\u001b[1;31mClick <a href='https://aka.ms/JupyterTrustedKernelPaths'>here</a> for further details, optionally update the setting <a href='command:workbench.action.openSettings?[\"jupyter.kernels.trusted\"]'>jupyter.kernels.trusted</a> to trust the kernel."
          ]
        }
      ],
      "source": [
        "import matplotlib.pyplot as plt\n",
        "import seaborn as sns\n",
        "\n",
        "# Function to visualize the distribution of output labels\n",
        "def visualize_output_labels(y):\n",
        "    plt.figure(figsize=(6, 4))\n",
        "    sns.countplot(x=y)\n",
        "    plt.title('Distribution of Output Labels')\n",
        "    plt.xlabel('Labels')\n",
        "    plt.ylabel('Count')\n",
        "    plt.show()\n",
        "\n",
        "# Generate synthetic heart disease dataset\n",
        "X_synthetic, y_synthetic = generate_synthetic_heart_data()\n",
        "\n",
        "# Visualize the output labels\n",
        "visualize_output_labels(y_synthetic)\n"
      ]
    },
    {
      "cell_type": "code",
      "execution_count": null,
      "metadata": {
        "id": "hO2J4gUf77Cs"
      },
      "outputs": [
        {
          "ename": "",
          "evalue": "",
          "output_type": "error",
          "traceback": [
            "\u001b[1;31mFailed to start the Kernel. \n",
            "\u001b[1;31mThe kernel 'book_rec (Python 3.10.9)' was not started as it is located in an insecure location 'c:\\ProgramData\\jupyter\\kernels\\book_rec\\kernel.json'.  \n",
            "\u001b[1;31mClick <a href='https://aka.ms/JupyterTrustedKernelPaths'>here</a> for further details, optionally update the setting <a href='command:workbench.action.openSettings?[\"jupyter.kernels.trusted\"]'>jupyter.kernels.trusted</a> to trust the kernel."
          ]
        }
      ],
      "source": [
        "# Function to generate synthetic dataset for heart disease detection\n",
        "def generate_synthetic_heart_data(num_samples=1000, num_features=13, random_seed=42):\n",
        "    np.random.seed(random_seed)\n",
        "    # Generate random features (assuming 13 features for heart disease dataset)\n",
        "    X = np.random.randn(num_samples, num_features)\n",
        "    # Generate random labels (binary classification)\n",
        "    y = np.random.randint(0, 2, size=num_samples)\n",
        "    return X, y"
      ]
    },
    {
      "cell_type": "code",
      "execution_count": null,
      "metadata": {
        "colab": {
          "base_uri": "https://localhost:8080/"
        },
        "id": "aDuTIuJH0rI9",
        "outputId": "e9a892aa-5198-4c4d-f9e6-63e9face3c83"
      },
      "outputs": [
        {
          "ename": "",
          "evalue": "",
          "output_type": "error",
          "traceback": [
            "\u001b[1;31mFailed to start the Kernel. \n",
            "\u001b[1;31mThe kernel 'book_rec (Python 3.10.9)' was not started as it is located in an insecure location 'c:\\ProgramData\\jupyter\\kernels\\book_rec\\kernel.json'.  \n",
            "\u001b[1;31mClick <a href='https://aka.ms/JupyterTrustedKernelPaths'>here</a> for further details, optionally update the setting <a href='command:workbench.action.openSettings?[\"jupyter.kernels.trusted\"]'>jupyter.kernels.trusted</a> to trust the kernel."
          ]
        }
      ],
      "source": [
        "# Generate synthetic heart disease dataset\n",
        "X_synthetic, y_synthetic = generate_synthetic_heart_data(num_samples=1000, num_features=13)\n",
        "\n",
        "# Split the synthetic dataset into training and testing sets\n",
        "X_train, X_test, y_train, y_test = train_test_split(X_synthetic, y_synthetic, test_size=0.2, random_state=42)\n",
        "\n",
        "# Standardize features\n",
        "scaler = StandardScaler()\n",
        "X_train = scaler.fit_transform(X_train)\n",
        "X_test = scaler.transform(X_test)\n",
        "\n",
        "# Define the parameter grid for SVM\n",
        "param_grid = {\n",
        "    'C': [0.1, 1, 10, 100],  # Regularization parameter\n",
        "    'gamma': [0.1, 0.01, 0.001, 0.0001],  # Kernel coefficient for 'rbf' kernel\n",
        "}\n",
        "\n",
        "# Initialize the SVM classifier\n",
        "svm_classifier = SVC(kernel='rbf', random_state=42)\n",
        "\n",
        "# Perform grid search to find the best hyperparameters\n",
        "grid_search = GridSearchCV(estimator=svm_classifier, param_grid=param_grid, cv=5, n_jobs=-1)\n",
        "grid_search.fit(X_train, y_train)\n",
        "best_params = grid_search.best_params_\n",
        "best_model = grid_search.best_estimator_\n",
        "\n",
        "# Train and evaluate the model\n",
        "def train_and_evaluate(model, X_train, y_train, X_test, y_test, device):\n",
        "    with tf.device(device):\n",
        "        start_time = time.time()\n",
        "        model.fit(X_train, y_train)\n",
        "        train_time = time.time() - start_time\n",
        "\n",
        "        start_time = time.time()\n",
        "        y_pred = model.predict(X_test)\n",
        "        inference_time = time.time() - start_time\n",
        "\n",
        "        accuracy = accuracy_score(y_test, y_pred)\n",
        "        report = classification_report(y_test, y_pred, output_dict=True)\n",
        "\n",
        "        return train_time, inference_time, accuracy, report['macro avg']['f1-score'], report['macro avg']['precision'], report['macro avg']['recall']\n",
        "\n",
        "# CPU\n",
        "train_time_cpu, inference_time_cpu, accuracy_cpu, f1_cpu, precision_cpu, recall_cpu = train_and_evaluate(best_model, X_train, y_train, X_test, y_test, \"/CPU:0\")\n",
        "\n",
        "# GPU\n",
        "train_time_gpu, inference_time_gpu, accuracy_gpu, f1_gpu, precision_gpu, recall_gpu = train_and_evaluate(best_model, X_train, y_train, X_test, y_test, \"/GPU:0\")\n",
        "\n",
        "# TPU\n",
        "try:\n",
        "    resolver = tf.distribute.cluster_resolver.TPUClusterResolver(tpu='grpc://' + os.environ['COLAB_TPU_ADDR'])\n",
        "    tf.config.experimental_connect_to_cluster(resolver)\n",
        "    tf.tpu.experimental.initialize_tpu_system(resolver)\n",
        "    strategy = tf.distribute.TPUStrategy(resolver)\n",
        "    train_time_tpu, inference_time_tpu, accuracy_tpu, f1_tpu, precision_tpu, recall_tpu = train_and_evaluate(best_model, X_train, y_train, X_test, y_test, resolver.master())\n",
        "except Exception as e:\n",
        "    print(\"TPU Error:\", e)\n",
        "    train_time_tpu, inference_time_tpu, accuracy_tpu, f1_tpu, precision_tpu, recall_tpu = -1, -1, -1, -1, -1, -1\n",
        "\n",
        "# Print results\n",
        "print(\"CPU: Train Time =\", train_time_cpu, \"s, Inference Time =\", inference_time_cpu, \"s, Accuracy =\", accuracy_cpu, \", F1 Score =\", f1_cpu, \", Precision =\", precision_cpu, \", Recall =\", recall_cpu)\n",
        "print(\"GPU: Train Time =\", train_time_gpu, \"s, Inference Time =\", inference_time_gpu, \"s, Accuracy =\", accuracy_gpu, \", F1 Score =\", f1_gpu, \", Precision =\", precision_gpu, \", Recall =\", recall_gpu)\n",
        "print(\"TPU: Train Time =\", train_time_tpu, \"s, Inference Time =\", inference_time_tpu, \"s, Accuracy =\", accuracy_tpu, \", F1 Score =\", f1_tpu, \", Precision =\", precision_tpu, \", Recall =\", recall_tpu)\n",
        "\n",
        "# Save the best model\n",
        "model_filename = \"svm_model_best.pkl\"\n",
        "with open(model_filename, 'wb') as file:\n",
        "    pickle.dump(best_model, file)\n"
      ]
    },
    {
      "cell_type": "code",
      "execution_count": null,
      "metadata": {
        "colab": {
          "base_uri": "https://localhost:8080/"
        },
        "id": "GG3miqpE5tfB",
        "outputId": "6cd811fb-ae2f-46b0-a7f8-8aae83b0a26b"
      },
      "outputs": [
        {
          "ename": "",
          "evalue": "",
          "output_type": "error",
          "traceback": [
            "\u001b[1;31mFailed to start the Kernel. \n",
            "\u001b[1;31mThe kernel 'book_rec (Python 3.10.9)' was not started as it is located in an insecure location 'c:\\ProgramData\\jupyter\\kernels\\book_rec\\kernel.json'.  \n",
            "\u001b[1;31mClick <a href='https://aka.ms/JupyterTrustedKernelPaths'>here</a> for further details, optionally update the setting <a href='command:workbench.action.openSettings?[\"jupyter.kernels.trusted\"]'>jupyter.kernels.trusted</a> to trust the kernel."
          ]
        }
      ],
      "source": [
        "import time\n",
        "import numpy as np\n",
        "import pandas as pd\n",
        "from sklearn.model_selection import train_test_split, GridSearchCV\n",
        "from sklearn.preprocessing import StandardScaler\n",
        "from sklearn.svm import SVC\n",
        "from sklearn.metrics import accuracy_score, classification_report\n",
        "import tensorflow as tf\n",
        "import os\n",
        "import pickle\n",
        "import matplotlib.pyplot as plt\n",
        "import seaborn as sns\n",
        "\n",
        "# Function to generate synthetic dataset for heart disease detection\n",
        "def generate_synthetic_heart_data(num_samples=1000, num_features=13, random_seed=42):\n",
        "    np.random.seed(random_seed)\n",
        "    # Generate random features (assuming 13 features for heart disease dataset)\n",
        "    X = np.random.randn(num_samples, num_features)\n",
        "    # Generate random labels (binary classification)\n",
        "    y = np.random.randint(0, 2, size=num_samples)\n",
        "    return X, y\n",
        "\n",
        "# Generate synthetic heart disease dataset\n",
        "X_synthetic, y_synthetic = generate_synthetic_heart_data(num_samples=1000, num_features=13)\n",
        "\n",
        "# Split the synthetic dataset into training and testing sets\n",
        "X_train, X_test, y_train, y_test = train_test_split(X_synthetic, y_synthetic, test_size=0.2, random_state=42)\n",
        "\n",
        "# Standardize features\n",
        "scaler = StandardScaler()\n",
        "X_train = scaler.fit_transform(X_train)\n",
        "X_test = scaler.transform(X_test)\n",
        "\n",
        "# Define the parameter grid for SVM\n",
        "param_grid = {\n",
        "    'C': [0.1, 1, 10, 100],  # Regularization parameter\n",
        "    'gamma': [0.1, 0.01, 0.001, 0.0001],  # Kernel coefficient for 'rbf' kernel\n",
        "}\n",
        "\n",
        "# Initialize the SVM classifier\n",
        "svm_classifier = SVC(kernel='rbf', random_state=42)\n",
        "\n",
        "# Perform grid search to find the best hyperparameters\n",
        "grid_search = GridSearchCV(estimator=svm_classifier, param_grid=param_grid, cv=5, n_jobs=-1)\n",
        "grid_search.fit(X_train, y_train)\n",
        "best_params = grid_search.best_params_\n",
        "best_model = grid_search.best_estimator_\n",
        "\n",
        "# Train and evaluate the model\n",
        "def train_and_evaluate(model, X_train, y_train, X_test, y_test, device):\n",
        "    with tf.device(device):\n",
        "        start_time = time.time()\n",
        "        model.fit(X_train, y_train)\n",
        "        train_time = time.time() - start_time\n",
        "\n",
        "        start_time = time.time()\n",
        "        y_pred = model.predict(X_test)\n",
        "        inference_time = time.time() - start_time\n",
        "\n",
        "        accuracy = accuracy_score(y_test, y_pred)\n",
        "        report = classification_report(y_test, y_pred, output_dict=True)\n",
        "\n",
        "        return train_time, inference_time, accuracy, report['macro avg']['f1-score'], report['macro avg']['precision'], report['macro avg']['recall']\n",
        "\n",
        "# CPU\n",
        "train_time_cpu, inference_time_cpu, accuracy_cpu, f1_cpu, precision_cpu, recall_cpu = train_and_evaluate(best_model, X_train, y_train, X_test, y_test, \"/CPU:0\")\n",
        "\n",
        "# GPU\n",
        "train_time_gpu, inference_time_gpu, accuracy_gpu, f1_gpu, precision_gpu, recall_gpu = train_and_evaluate(best_model, X_train, y_train, X_test, y_test, \"/GPU:0\")\n",
        "\n",
        "# TPU\n",
        "try:\n",
        "    resolver = tf.distribute.cluster_resolver.TPUClusterResolver(tpu='grpc://' + os.environ['COLAB_TPU_ADDR'])\n",
        "    tf.config.experimental_connect_to_cluster(resolver)\n",
        "    tf.tpu.experimental.initialize_tpu_system(resolver)\n",
        "    strategy = tf.distribute.TPUStrategy(resolver)\n",
        "    train_time_tpu, inference_time_tpu, accuracy_tpu, f1_tpu, precision_tpu, recall_tpu = -1, -1, -1, -1, -1, -1  # Initialize with default values\n",
        "except Exception as e:\n",
        "    print(\"TPU Error:\", e)\n",
        "    train_time_tpu, inference_time_tpu, accuracy_tpu, f1_tpu, precision_tpu, recall_tpu = -1, -1, -1, -1, -1, -1\n",
        "\n",
        "# Print results\n",
        "print(\"CPU: Train Time =\", train_time_cpu, \"s, Inference Time =\", inference_time_cpu, \"s, Accuracy =\", accuracy_cpu, \", F1 Score =\", f1_cpu, \", Precision =\", precision_cpu, \", Recall =\", recall_cpu)\n",
        "print(\"GPU: Train Time =\", train_time_gpu, \"s, Inference Time =\", inference_time_gpu, \"s, Accuracy =\", accuracy_gpu, \", F1 Score =\", f1_gpu, \", Precision =\", precision_gpu, \", Recall =\", recall_gpu)\n",
        "print(\"TPU: Train Time =\", train_time_tpu, \"s, Inference Time =\", inference_time_tpu, \"s, Accuracy =\", accuracy_tpu, \", F1 Score =\", f1_tpu, \", Precision =\", precision_tpu, \", Recall =\", recall_tpu)\n",
        "\n",
        "# Save the best model\n",
        "model_filename = \"/content/drive/My Drive/svm_model_best.pkl\"\n",
        "with open(model_filename, 'wb') as file:\n",
        "    pickle.dump(best_model, file)\n"
      ]
    },
    {
      "cell_type": "code",
      "execution_count": null,
      "metadata": {
        "colab": {
          "base_uri": "https://localhost:8080/",
          "height": 545
        },
        "id": "N-ws8WpH53kz",
        "outputId": "c6b361d5-6ef7-4ca2-8ca8-f32903c6152c"
      },
      "outputs": [
        {
          "ename": "",
          "evalue": "",
          "output_type": "error",
          "traceback": [
            "\u001b[1;31mFailed to start the Kernel. \n",
            "\u001b[1;31mThe kernel 'book_rec (Python 3.10.9)' was not started as it is located in an insecure location 'c:\\ProgramData\\jupyter\\kernels\\book_rec\\kernel.json'.  \n",
            "\u001b[1;31mClick <a href='https://aka.ms/JupyterTrustedKernelPaths'>here</a> for further details, optionally update the setting <a href='command:workbench.action.openSettings?[\"jupyter.kernels.trusted\"]'>jupyter.kernels.trusted</a> to trust the kernel."
          ]
        }
      ],
      "source": [
        "# Visualization: Performance comparison\n",
        "labels = ['Train Time', 'Inference Time', 'Accuracy', 'F1 Score', 'Precision', 'Recall']\n",
        "cpu_values = [train_time_cpu, inference_time_cpu, accuracy_cpu, f1_cpu, precision_cpu, recall_cpu]\n",
        "gpu_values = [train_time_gpu, inference_time_gpu, accuracy_gpu, f1_gpu, precision_gpu, recall_gpu]\n",
        "tpu_values = [train_time_tpu, inference_time_tpu, accuracy_tpu, f1_tpu, precision_tpu, recall_tpu]\n",
        "\n",
        "x = np.arange(len(labels))  # the label locations\n",
        "width = 0.2  # the width of the bars\n",
        "\n",
        "fig, ax = plt.subplots(figsize=(12, 6))\n",
        "\n",
        "rects1 = ax.bar(x - width, cpu_values, width, label='CPU', color='blue')\n",
        "rects2 = ax.bar(x, gpu_values, width, label='GPU', color='orange')\n",
        "rects3 = ax.bar(x + width, tpu_values, width, label='TPU', color='green')\n",
        "\n",
        "# Add some text for labels, title and custom x-axis tick labels, etc.\n",
        "ax.set_ylabel('Scores')\n",
        "ax.set_title('Performance Comparison')\n",
        "ax.set_xticks(x)\n",
        "ax.set_xticklabels(labels)\n",
        "ax.legend()\n",
        "\n",
        "plt.show()\n"
      ]
    },
    {
      "cell_type": "code",
      "execution_count": null,
      "metadata": {
        "colab": {
          "base_uri": "https://localhost:8080/",
          "height": 1000
        },
        "id": "9VjpubKE6aT7",
        "outputId": "03b00fde-8b11-43ce-ca22-465ca4f0712e"
      },
      "outputs": [
        {
          "ename": "",
          "evalue": "",
          "output_type": "error",
          "traceback": [
            "\u001b[1;31mFailed to start the Kernel. \n",
            "\u001b[1;31mThe kernel 'book_rec (Python 3.10.9)' was not started as it is located in an insecure location 'c:\\ProgramData\\jupyter\\kernels\\book_rec\\kernel.json'.  \n",
            "\u001b[1;31mClick <a href='https://aka.ms/JupyterTrustedKernelPaths'>here</a> for further details, optionally update the setting <a href='command:workbench.action.openSettings?[\"jupyter.kernels.trusted\"]'>jupyter.kernels.trusted</a> to trust the kernel."
          ]
        }
      ],
      "source": [
        "# Visualization: Individual performance metrics for CPU, GPU, TPU\n",
        "def plot_individual_performance(metric_name, cpu_value, gpu_value, tpu_value):\n",
        "    labels = ['CPU', 'GPU', 'TPU']\n",
        "    values = [cpu_value, gpu_value, tpu_value]\n",
        "\n",
        "    plt.figure(figsize=(8, 6))\n",
        "    plt.plot(labels, values, marker='o')\n",
        "    plt.title(f'{metric_name} Comparison')\n",
        "    plt.xlabel('Device')\n",
        "    plt.ylabel(metric_name)\n",
        "    plt.grid(True)\n",
        "    plt.show()\n",
        "\n",
        "# Plot individual performance metrics\n",
        "plot_individual_performance('Training Time (s)', train_time_cpu, train_time_gpu, train_time_tpu)\n",
        "plot_individual_performance('Inference Time (s)', inference_time_cpu, inference_time_gpu, inference_time_tpu)\n",
        "plot_individual_performance('Accuracy', accuracy_cpu, accuracy_gpu, accuracy_tpu)\n",
        "plot_individual_performance('F1 Score', f1_cpu, f1_gpu, f1_tpu)\n",
        "plot_individual_performance('Precision', precision_cpu, precision_gpu, precision_tpu)\n",
        "plot_individual_performance('Recall', recall_cpu, recall_gpu, recall_tpu)\n"
      ]
    },
    {
      "cell_type": "code",
      "execution_count": null,
      "metadata": {
        "colab": {
          "base_uri": "https://localhost:8080/",
          "height": 675
        },
        "id": "Pa47zUgT6xDL",
        "outputId": "038cdae6-7b68-4999-e82f-0d2d10924a1f"
      },
      "outputs": [
        {
          "ename": "",
          "evalue": "",
          "output_type": "error",
          "traceback": [
            "\u001b[1;31mFailed to start the Kernel. \n",
            "\u001b[1;31mThe kernel 'book_rec (Python 3.10.9)' was not started as it is located in an insecure location 'c:\\ProgramData\\jupyter\\kernels\\book_rec\\kernel.json'.  \n",
            "\u001b[1;31mClick <a href='https://aka.ms/JupyterTrustedKernelPaths'>here</a> for further details, optionally update the setting <a href='command:workbench.action.openSettings?[\"jupyter.kernels.trusted\"]'>jupyter.kernels.trusted</a> to trust the kernel."
          ]
        }
      ],
      "source": [
        "import matplotlib.pyplot as plt\n",
        "\n",
        "# Function to plot performance metrics for CPU in a pie chart\n",
        "def plot_cpu_performance_pie(train_time_cpu, inference_time_cpu, accuracy_cpu, f1_cpu, precision_cpu, recall_cpu):\n",
        "    labels = ['Training Time', 'Inference Time', 'Accuracy', 'F1 Score', 'Precision', 'Recall']\n",
        "    values = [train_time_cpu, inference_time_cpu, accuracy_cpu, f1_cpu, precision_cpu, recall_cpu]\n",
        "\n",
        "    plt.figure(figsize=(8, 8))\n",
        "    plt.pie(values, labels=labels, autopct='%1.1f%%', startangle=140)\n",
        "    plt.title('Performance Metrics for CPU')\n",
        "    plt.axis('equal')  # Equal aspect ratio ensures that pie is drawn as a circle.\n",
        "    plt.show()\n",
        "\n",
        "# Plot CPU performance metrics in a pie chart\n",
        "plot_cpu_performance_pie(train_time_cpu, inference_time_cpu, accuracy_cpu, f1_cpu, precision_cpu, recall_cpu)\n"
      ]
    },
    {
      "cell_type": "code",
      "execution_count": null,
      "metadata": {
        "colab": {
          "base_uri": "https://localhost:8080/",
          "height": 681
        },
        "id": "0Q6DQnSo7Vuf",
        "outputId": "c205e2fc-f8bb-4acb-ea4a-b45c31ea4024"
      },
      "outputs": [
        {
          "ename": "",
          "evalue": "",
          "output_type": "error",
          "traceback": [
            "\u001b[1;31mFailed to start the Kernel. \n",
            "\u001b[1;31mThe kernel 'book_rec (Python 3.10.9)' was not started as it is located in an insecure location 'c:\\ProgramData\\jupyter\\kernels\\book_rec\\kernel.json'.  \n",
            "\u001b[1;31mClick <a href='https://aka.ms/JupyterTrustedKernelPaths'>here</a> for further details, optionally update the setting <a href='command:workbench.action.openSettings?[\"jupyter.kernels.trusted\"]'>jupyter.kernels.trusted</a> to trust the kernel."
          ]
        }
      ],
      "source": [
        "import matplotlib.pyplot as plt\n",
        "\n",
        "# Function to plot performance metrics for GPU in a pie chart\n",
        "def plot_gpu_performance_pie(train_time_gpu, inference_time_gpu, accuracy_gpu, f1_gpu, precision_gpu, recall_gpu):\n",
        "    labels = ['Training Time', 'Inference Time', 'Accuracy', 'F1 Score', 'Precision', 'Recall']\n",
        "    values = [train_time_gpu, inference_time_gpu, accuracy_gpu, f1_gpu, precision_gpu, recall_gpu]\n",
        "\n",
        "    plt.figure(figsize=(8, 8))\n",
        "    plt.pie(values, labels=labels, autopct='%1.1f%%', startangle=140)\n",
        "    plt.title('Performance Metrics for GPU')\n",
        "    plt.axis('equal')  # Equal aspect ratio ensures that pie is drawn as a circle.\n",
        "    plt.show()\n",
        "\n",
        "# Plot GPU performance metrics in a pie chart\n",
        "plot_gpu_performance_pie(train_time_gpu, inference_time_gpu, accuracy_gpu, f1_gpu, precision_gpu, recall_gpu)\n"
      ]
    },
    {
      "cell_type": "code",
      "execution_count": null,
      "metadata": {
        "colab": {
          "base_uri": "https://localhost:8080/"
        },
        "id": "ioPu4fY97v4A",
        "outputId": "37778f69-e46d-4edb-b42c-2ed12b3cf595"
      },
      "outputs": [
        {
          "ename": "",
          "evalue": "",
          "output_type": "error",
          "traceback": [
            "\u001b[1;31mFailed to start the Kernel. \n",
            "\u001b[1;31mThe kernel 'book_rec (Python 3.10.9)' was not started as it is located in an insecure location 'c:\\ProgramData\\jupyter\\kernels\\book_rec\\kernel.json'.  \n",
            "\u001b[1;31mClick <a href='https://aka.ms/JupyterTrustedKernelPaths'>here</a> for further details, optionally update the setting <a href='command:workbench.action.openSettings?[\"jupyter.kernels.trusted\"]'>jupyter.kernels.trusted</a> to trust the kernel."
          ]
        }
      ],
      "source": [
        "def evaluate_model_on_input(model, scaler, device):\n",
        "    # Take input from the user\n",
        "    age = 45\n",
        "    sex = 1\n",
        "    chest_pain_type = 3\n",
        "    resting_blood_pressure = 130\n",
        "    cholesterol = 210\n",
        "    fasting_blood_sugar = 1\n",
        "    rest_ecg = 0\n",
        "    max_heart_rate = 160\n",
        "    exercise_induced_angina = 0\n",
        "    st_depression = 1.5\n",
        "    st_slope = 2\n",
        "    num_major_vessels = 1\n",
        "    thalassemia = 2\n",
        "\n",
        "    # Scale the input features\n",
        "    input_features = np.array([[age, sex, chest_pain_type, resting_blood_pressure, cholesterol, fasting_blood_sugar, rest_ecg,\n",
        "                                 max_heart_rate, exercise_induced_angina, st_depression, st_slope, num_major_vessels, thalassemia]])\n",
        "    input_features_scaled = scaler.transform(input_features)\n",
        "\n",
        "    # Evaluate the model on the input features\n",
        "    with tf.device(device):\n",
        "        start_time = time.time()\n",
        "        y_pred = model.predict(input_features_scaled)\n",
        "        inference_time = time.time() - start_time\n",
        "\n",
        "    print(\"Prediction:\")\n",
        "    if y_pred[0] == 0:\n",
        "        print(\"No heart disease detected.\")\n",
        "    else:\n",
        "        print(\"Heart disease detected.\")\n",
        "\n",
        "    print(\"Inference Time on\", device, \":\", inference_time, \"s\")\n",
        "\n",
        "# Load the best model\n",
        "with open(model_filename, 'rb') as file:\n",
        "    best_model = pickle.load(file)\n",
        "\n",
        "# Evaluate the model on input from the user\n",
        "evaluate_model_on_input(best_model, scaler, \"/CPU:0\")\n",
        "evaluate_model_on_input(best_model, scaler, \"/GPU:0\")\n",
        "evaluate_model_on_input(best_model, scaler, resolver.master() if 'resolver' in locals() else None)\n"
      ]
    }
  ],
  "metadata": {
    "accelerator": "TPU",
    "colab": {
      "gpuType": "V28",
      "provenance": []
    },
    "kernelspec": {
      "display_name": "book_rec",
      "language": "python",
      "name": "book_rec"
    },
    "language_info": {
      "name": "python",
      "version": "3.10.9"
    }
  },
  "nbformat": 4,
  "nbformat_minor": 0
}
